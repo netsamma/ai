{
  "nbformat": 4,
  "nbformat_minor": 0,
  "metadata": {
    "colab": {
      "provenance": [],
      "authorship_tag": "ABX9TyNMaJidkC0K9zfq6wbbha5e",
      "include_colab_link": true
    },
    "kernelspec": {
      "name": "python3",
      "display_name": "Python 3"
    },
    "language_info": {
      "name": "python"
    }
  },
  "cells": [
    {
      "cell_type": "markdown",
      "metadata": {
        "id": "view-in-github",
        "colab_type": "text"
      },
      "source": [
        "<a href=\"https://colab.research.google.com/github/netsamma/ai/blob/main/AI.ipynb\" target=\"_parent\"><img src=\"https://colab.research.google.com/assets/colab-badge.svg\" alt=\"Open In Colab\"/></a>"
      ]
    },
    {
      "cell_type": "code",
      "execution_count": 20,
      "metadata": {
        "id": "q2kaS_E8gcae",
        "colab": {
          "base_uri": "https://localhost:8080/"
        },
        "outputId": "b222abf8-d652-4ec9-b078-5e8546658b37"
      },
      "outputs": [
        {
          "output_type": "stream",
          "name": "stdout",
          "text": [
            "Type of x_train: <class 'numpy.ndarray'>\n",
            "First five elements of x_train are:\n",
            " [6.1101 5.5277 8.5186 7.0032 5.8598 8.3829 7.4764 8.5781 6.4862]\n",
            "\n",
            "\n",
            "Type of y_train: <class 'numpy.ndarray'>\n",
            "First five elements of y_train are:\n",
            " [17.592   9.1302 13.662  11.854   6.8233 11.886   4.3483 12.      6.5987]\n"
          ]
        }
      ],
      "source": [
        "import numpy as np\n",
        "import matplotlib.pyplot as plt\n",
        "from utils import *\n",
        "import copy\n",
        "import math\n",
        "%matplotlib inline\n",
        "\n",
        "# load the dataset\n",
        "x_train, y_train = load_data()\n",
        "\n",
        "# print x_train\n",
        "print(\"Type of x_train:\",type(x_train))\n",
        "print(\"First five elements of x_train are:\\n\", x_train[:9])\n",
        "print(\"\\n\")\n",
        "# print y_train\n",
        "print(\"Type of y_train:\",type(y_train))\n",
        "print(\"First five elements of y_train are:\\n\", y_train[:9])"
      ]
    }
  ]
}